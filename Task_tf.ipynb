{
 "cells": [
  {
   "cell_type": "code",
   "execution_count": 1,
   "metadata": {},
   "outputs": [
    {
     "name": "stderr",
     "output_type": "stream",
     "text": [
      "Using TensorFlow backend.\n"
     ]
    }
   ],
   "source": [
    "%matplotlib inline\n",
    "import keras.utils\n",
    "import os"
   ]
  },
  {
   "cell_type": "code",
   "execution_count": 2,
   "metadata": {},
   "outputs": [],
   "source": [
    "from __future__ import division, print_function\n",
    "\n",
    "import os, json\n",
    "from glob import glob\n",
    "import numpy as np\n",
    "from scipy import misc, ndimage\n",
    "from scipy.ndimage.interpolation import zoom\n",
    "\n",
    "from keras import backend as K\n",
    "from keras.layers.normalization import BatchNormalization\n",
    "from keras.utils.data_utils import get_file\n",
    "from keras.utils import to_categorical\n",
    "from keras.models import Sequential\n",
    "from keras.layers.core import Flatten, Dense, Dropout, Lambda\n",
    "from keras.layers.convolutional import Convolution2D\n",
    "from keras.layers import Activation, Dense,GlobalAveragePooling2D\n",
    "\n",
    "from keras.optimizers import SGD, RMSprop, Adam\n",
    "from keras.preprocessing import image\n",
    "\n",
    "#from keras import backend as K\n",
    "#K.set_image_dim_ordering('tf')\n",
    "#theno color chaneel come first (3,224,224)"
   ]
  },
  {
   "cell_type": "code",
   "execution_count": 3,
   "metadata": {},
   "outputs": [],
   "source": [
    "path=r\"C:\\Users\\DE108470\\Downloads\\images\\\\\"\n",
    "model_path= path + 'model'\n",
    "if not os.path.exists(model_path): os.mkdir(model_path)\n",
    "batch_size=16"
   ]
  },
  {
   "cell_type": "code",
   "execution_count": 4,
   "metadata": {},
   "outputs": [],
   "source": [
    "def get_batches(dirname, gen=image.ImageDataGenerator(), shuffle=True, batch_size=1, class_mode='categorical',\n",
    "                target_size=(224,224)):\n",
    "    return gen.flow_from_directory(dirname, target_size=target_size,\n",
    "            class_mode=class_mode, shuffle=shuffle, batch_size=batch_size)"
   ]
  },
  {
   "cell_type": "code",
   "execution_count": 5,
   "metadata": {},
   "outputs": [
    {
     "name": "stdout",
     "output_type": "stream",
     "text": [
      "Found 101 images belonging to 2 classes.\n",
      "Found 34 images belonging to 2 classes.\n"
     ]
    }
   ],
   "source": [
    "train_data=get_batches(path+'train', shuffle=True, batch_size=1,class_mode='categorical',target_size=(224,224))\n",
    "val_data=get_batches(path+'val', shuffle=True, batch_size=1,class_mode='categorical',target_size=(224,224))"
   ]
  },
  {
   "cell_type": "code",
   "execution_count": 6,
   "metadata": {},
   "outputs": [
    {
     "data": {
      "text/plain": [
       "array([0, 0, 0, 0, 0, 0, 0, 0, 0, 0, 0, 0, 0, 0, 0, 0, 0, 0, 0, 0, 0, 0,\n",
       "       0, 0, 0, 0, 0, 0, 0, 0, 0, 0, 0, 0, 0, 0, 0, 0, 0, 0, 0, 0, 0, 0,\n",
       "       0, 0, 0, 0, 0, 0, 1, 1, 1, 1, 1, 1, 1, 1, 1, 1, 1, 1, 1, 1, 1, 1,\n",
       "       1, 1, 1, 1, 1, 1, 1, 1, 1, 1, 1, 1, 1, 1, 1, 1, 1, 1, 1, 1, 1, 1,\n",
       "       1, 1, 1, 1, 1, 1, 1, 1, 1, 1, 1, 1, 1])"
      ]
     },
     "execution_count": 6,
     "metadata": {},
     "output_type": "execute_result"
    }
   ],
   "source": [
    "train_data.classes"
   ]
  },
  {
   "cell_type": "code",
   "execution_count": 7,
   "metadata": {},
   "outputs": [
    {
     "name": "stdout",
     "output_type": "stream",
     "text": [
      "135\n"
     ]
    },
    {
     "data": {
      "text/plain": [
       "27.0"
      ]
     },
     "execution_count": 7,
     "metadata": {},
     "output_type": "execute_result"
    }
   ],
   "source": [
    "total=0\n",
    "for(rootdir, dirnames, filenames) in os.walk(path):\n",
    "    total+=len(filenames)\n",
    "print(total)\n",
    "valsize=total/10 * 2\n",
    "valsize"
   ]
  },
  {
   "cell_type": "code",
   "execution_count": 8,
   "metadata": {},
   "outputs": [
    {
     "data": {
      "text/plain": [
       "array([[1., 0.],\n",
       "       [1., 0.],\n",
       "       [1., 0.],\n",
       "       [1., 0.],\n",
       "       [1., 0.],\n",
       "       [1., 0.],\n",
       "       [1., 0.],\n",
       "       [1., 0.],\n",
       "       [1., 0.],\n",
       "       [1., 0.]], dtype=float32)"
      ]
     },
     "execution_count": 8,
     "metadata": {},
     "output_type": "execute_result"
    }
   ],
   "source": [
    "train_class=train_data.classes\n",
    "train_labels=to_categorical(train_class)\n",
    "val_class=val_data.classes\n",
    "val_labels=to_categorical(val_class)\n",
    "train_labels[:10]"
   ]
  },
  {
   "cell_type": "code",
   "execution_count": 9,
   "metadata": {},
   "outputs": [
    {
     "data": {
      "text/plain": [
       "(101, 2)"
      ]
     },
     "execution_count": 9,
     "metadata": {},
     "output_type": "execute_result"
    }
   ],
   "source": [
    "train_labels.shape"
   ]
  },
  {
   "cell_type": "code",
   "execution_count": 10,
   "metadata": {},
   "outputs": [
    {
     "data": {
      "text/plain": [
       "array([144.86719954, 116.71675425,  96.00903158])"
      ]
     },
     "execution_count": 10,
     "metadata": {},
     "output_type": "execute_result"
    }
   ],
   "source": [
    "#first dim is nb_samles\n",
    "sum = np.array([0.0, 0.0, 0.0]);\n",
    "count = 0\n",
    "for imgs, labels in train_data:\n",
    "    #sum += np.sum(np.sum(imgs[], axis=2),axis=1)\n",
    "    count +=1\n",
    "    imgs=imgs[0]\n",
    "    sum += np.sum( np.sum(imgs,axis=1),axis=0)\n",
    "    if count>= train_data.samples:\n",
    "        break\n",
    "\n",
    "avg = sum/(count*224*224)\n",
    "avg"
   ]
  },
  {
   "cell_type": "code",
   "execution_count": 11,
   "metadata": {},
   "outputs": [],
   "source": [
    "#array([170.14849729, 136.12759088, 110.20172991])"
   ]
  },
  {
   "cell_type": "markdown",
   "metadata": {},
   "source": [
    "mean pixel value for rgb channel : array([144.86719954, 116.71675425,  96.00903158])\n"
   ]
  },
  {
   "cell_type": "code",
   "execution_count": 12,
   "metadata": {},
   "outputs": [],
   "source": [
    "avg= np.array(avg, dtype=np.float32).reshape((1,1,3))\n",
    "def preprocessing(x):\n",
    "    x=x-avg\n",
    "    return x[:, ::-1]\n"
   ]
  },
  {
   "cell_type": "markdown",
   "metadata": {},
   "source": [
    "# MLP"
   ]
  },
  {
   "cell_type": "code",
   "execution_count": 13,
   "metadata": {},
   "outputs": [],
   "source": [
    "def MLP(num_classes): \n",
    "    model =  Sequential()\n",
    "    model.add(Lambda(preprocessing, input_shape=(224,224,3), output_shape=(224,224,3)))\n",
    "    model.add(Flatten())\n",
    "    model.add(Dense(4, activation='relu'))\n",
    "    model.add(Dense(4, activation='relu'))\n",
    "    model.add(Dense(num_classes,activation='softmax'))\n",
    "    return model\n",
    "    \n",
    "model= MLP(num_classes=2)\n",
    "\n"
   ]
  },
  {
   "cell_type": "code",
   "execution_count": 14,
   "metadata": {},
   "outputs": [],
   "source": [
    "opt = keras.optimizers.Adam(lr=0.001)\n",
    "model.compile(loss='categorical_crossentropy',\n",
    "              optimizer=opt,\n",
    "              metrics=['accuracy'])\n",
    "   "
   ]
  },
  {
   "cell_type": "code",
   "execution_count": 15,
   "metadata": {
    "scrolled": true
   },
   "outputs": [
    {
     "name": "stdout",
     "output_type": "stream",
     "text": [
      "Epoch 1/5\n",
      "10/10 [==============================] - 2s 207ms/step - loss: 1.6820 - acc: 0.8000 - val_loss: 11.8215 - val_acc: 0.2353\n",
      "Epoch 2/5\n",
      "10/10 [==============================] - 2s 152ms/step - loss: 1.7825 - acc: 0.7000 - val_loss: 9.2518 - val_acc: 0.3824\n",
      "Epoch 3/5\n",
      "10/10 [==============================] - 2s 159ms/step - loss: 1.8197 - acc: 0.8000 - val_loss: 9.2512 - val_acc: 0.3824\n",
      "Epoch 4/5\n",
      "10/10 [==============================] - 2s 156ms/step - loss: 1.7512 - acc: 0.7000 - val_loss: 9.2512 - val_acc: 0.3824\n",
      "Epoch 5/5\n",
      "10/10 [==============================] - 2s 150ms/step - loss: 0.0691 - acc: 1.0000 - val_loss: 9.2513 - val_acc: 0.3824\n"
     ]
    }
   ],
   "source": [
    "batch_size=10\n",
    "epochs=5\n",
    "history = model.fit_generator(\n",
    "    train_data,\n",
    "    validation_data=val_data,\n",
    "    steps_per_epoch= len(train_data) // batch_size,\n",
    "    epochs=epochs,\n",
    "    verbose=1\n",
    ")\n"
   ]
  },
  {
   "cell_type": "code",
   "execution_count": 17,
   "metadata": {},
   "outputs": [
    {
     "name": "stdout",
     "output_type": "stream",
     "text": [
      "_________________________________________________________________\n",
      "Layer (type)                 Output Shape              Param #   \n",
      "=================================================================\n",
      "lambda_1 (Lambda)            (None, 224, 224, 3)       0         \n",
      "_________________________________________________________________\n",
      "flatten_1 (Flatten)          (None, 150528)            0         \n",
      "_________________________________________________________________\n",
      "dense_1 (Dense)              (None, 4)                 602116    \n",
      "_________________________________________________________________\n",
      "dense_2 (Dense)              (None, 4)                 20        \n",
      "_________________________________________________________________\n",
      "dense_3 (Dense)              (None, 2)                 10        \n",
      "=================================================================\n",
      "Total params: 602,146\n",
      "Trainable params: 602,146\n",
      "Non-trainable params: 0\n",
      "_________________________________________________________________\n"
     ]
    }
   ],
   "source": [
    "opt2 = keras.optimizers.Adam(lr=0.0001)\n",
    "model.compile(loss='categorical_crossentropy',\n",
    "              optimizer=opt2,\n",
    "              metrics=['accuracy'])\n",
    "model.summary()"
   ]
  },
  {
   "cell_type": "code",
   "execution_count": null,
   "metadata": {},
   "outputs": [],
   "source": []
  },
  {
   "cell_type": "code",
   "execution_count": 18,
   "metadata": {},
   "outputs": [
    {
     "name": "stdout",
     "output_type": "stream",
     "text": [
      "Epoch 1/5\n",
      "10/10 [==============================] - 2s 220ms/step - loss: 1.1921e-07 - acc: 1.0000 - val_loss: 9.2513 - val_acc: 0.3824\n",
      "Epoch 2/5\n",
      "10/10 [==============================] - 1s 146ms/step - loss: 0.1387 - acc: 0.9000 - val_loss: 9.2512 - val_acc: 0.3824\n",
      "Epoch 3/5\n",
      "10/10 [==============================] - 1s 142ms/step - loss: 3.3617 - acc: 0.8000 - val_loss: 9.2512 - val_acc: 0.3824\n",
      "Epoch 4/5\n",
      "10/10 [==============================] - 2s 155ms/step - loss: 0.2071 - acc: 1.0000 - val_loss: 9.2510 - val_acc: 0.3824\n",
      "Epoch 5/5\n",
      "10/10 [==============================] - 1s 150ms/step - loss: 4.9044 - acc: 0.7000 - val_loss: 9.2510 - val_acc: 0.3824\n"
     ]
    }
   ],
   "source": [
    "batch_size=10\n",
    "epochs=5\n",
    "history = model.fit_generator(\n",
    "    train_data,\n",
    "    validation_data=val_data,\n",
    "    steps_per_epoch= len(train_data) // batch_size,\n",
    "    epochs=epochs,\n",
    "    verbose=1\n",
    ")"
   ]
  },
  {
   "cell_type": "markdown",
   "metadata": {},
   "source": [
    "loss and acc seems jumps around.\n",
    "too many parameters at fully connected layers.\n",
    "val loss is way larger than loss, overfitting."
   ]
  },
  {
   "cell_type": "code",
   "execution_count": null,
   "metadata": {},
   "outputs": [],
   "source": []
  },
  {
   "cell_type": "code",
   "execution_count": null,
   "metadata": {},
   "outputs": [],
   "source": []
  },
  {
   "cell_type": "code",
   "execution_count": 19,
   "metadata": {},
   "outputs": [
    {
     "name": "stdout",
     "output_type": "stream",
     "text": [
      "Found 101 images belonging to 2 classes.\n",
      "Found 34 images belonging to 2 classes.\n"
     ]
    },
    {
     "data": {
      "text/plain": [
       "(101, 224, 224, 3)"
      ]
     },
     "execution_count": 19,
     "metadata": {},
     "output_type": "execute_result"
    }
   ],
   "source": [
    "import numpy as np\n",
    "def get_data(path, target_size=(224,224)):\n",
    "    batches = get_batches(path, shuffle=False, batch_size=1, class_mode=None, target_size=target_size)\n",
    "    return np.concatenate([batches.next() for i in range(batches.samples)])\n",
    "t_data=get_data(path+'train')\n",
    "v_data=get_data(path+'val')\n",
    "t_data.shape"
   ]
  },
  {
   "cell_type": "code",
   "execution_count": null,
   "metadata": {},
   "outputs": [],
   "source": []
  },
  {
   "cell_type": "markdown",
   "metadata": {},
   "source": [
    "# 3convlayer"
   ]
  },
  {
   "cell_type": "code",
   "execution_count": 14,
   "metadata": {},
   "outputs": [],
   "source": [
    "#no fully connected layer\n",
    "def ConvNet(num_classes): \n",
    "    model =  Sequential()\n",
    "    model.add(Lambda(preprocessing, input_shape=(224,224,3), output_shape=(224,224,3)))\n",
    "    \n",
    "    model.add(Convolution2D(20, kernel_size=(3, 3), strides=(2, 2)))\n",
    "    model.add(Activation('relu'))\n",
    " \n",
    "    model.add(Convolution2D(40, kernel_size=(3, 3),strides=(2, 2)))\n",
    "    model.add(Activation('relu'))\n",
    "    \n",
    "    model.add(Convolution2D(80, kernel_size=(3, 3),strides=(2, 2)))\n",
    "    model.add(Activation('relu'))\n",
    "    \n",
    "    model.add(GlobalAveragePooling2D())\n",
    "\n",
    "    model.add(Dense(num_classes,activation='softmax'))\n",
    "    return model\n",
    "    \n",
    "model=ConvNet(num_classes=2)"
   ]
  },
  {
   "cell_type": "code",
   "execution_count": 15,
   "metadata": {},
   "outputs": [
    {
     "data": {
      "text/plain": [
       "<keras.engine.sequential.Sequential at 0x254cdd897f0>"
      ]
     },
     "execution_count": 15,
     "metadata": {},
     "output_type": "execute_result"
    }
   ],
   "source": [
    "ConvNet(num_classes=2)"
   ]
  },
  {
   "cell_type": "code",
   "execution_count": 16,
   "metadata": {},
   "outputs": [
    {
     "name": "stdout",
     "output_type": "stream",
     "text": [
      "_________________________________________________________________\n",
      "Layer (type)                 Output Shape              Param #   \n",
      "=================================================================\n",
      "lambda_1 (Lambda)            (None, 224, 224, 3)       0         \n",
      "_________________________________________________________________\n",
      "conv2d_1 (Conv2D)            (None, 111, 111, 20)      560       \n",
      "_________________________________________________________________\n",
      "activation_1 (Activation)    (None, 111, 111, 20)      0         \n",
      "_________________________________________________________________\n",
      "conv2d_2 (Conv2D)            (None, 55, 55, 40)        7240      \n",
      "_________________________________________________________________\n",
      "activation_2 (Activation)    (None, 55, 55, 40)        0         \n",
      "_________________________________________________________________\n",
      "conv2d_3 (Conv2D)            (None, 27, 27, 80)        28880     \n",
      "_________________________________________________________________\n",
      "activation_3 (Activation)    (None, 27, 27, 80)        0         \n",
      "_________________________________________________________________\n",
      "global_average_pooling2d_1 ( (None, 80)                0         \n",
      "_________________________________________________________________\n",
      "dense_1 (Dense)              (None, 2)                 162       \n",
      "=================================================================\n",
      "Total params: 36,842\n",
      "Trainable params: 36,842\n",
      "Non-trainable params: 0\n",
      "_________________________________________________________________\n"
     ]
    }
   ],
   "source": [
    "opt = keras.optimizers.Adam(lr=0.0001)\n",
    "model.compile(loss='categorical_crossentropy',\n",
    "              optimizer=opt,\n",
    "              metrics=['accuracy'])\n",
    "model.summary()"
   ]
  },
  {
   "cell_type": "code",
   "execution_count": 17,
   "metadata": {},
   "outputs": [
    {
     "name": "stdout",
     "output_type": "stream",
     "text": [
      "Epoch 1/5\n",
      "10/10 [==============================] - 2s 246ms/step - loss: 1.4925 - acc: 0.2000 - val_loss: 0.2170 - val_acc: 0.9412\n",
      "Epoch 2/5\n",
      "10/10 [==============================] - 2s 184ms/step - loss: 0.8793 - acc: 0.7000 - val_loss: 0.6727 - val_acc: 0.5588\n",
      "Epoch 3/5\n",
      "10/10 [==============================] - 2s 188ms/step - loss: 0.4252 - acc: 0.7000 - val_loss: 0.7776 - val_acc: 0.4412\n",
      "Epoch 4/5\n",
      "10/10 [==============================] - 2s 178ms/step - loss: 0.5381 - acc: 0.6000 - val_loss: 0.5377 - val_acc: 0.7941\n",
      "Epoch 5/5\n",
      "10/10 [==============================] - 2s 187ms/step - loss: 0.4128 - acc: 0.8000 - val_loss: 0.6415 - val_acc: 0.6176\n"
     ]
    }
   ],
   "source": [
    "batch_size=10\n",
    "epochs=5\n",
    "history = model.fit_generator(\n",
    "    train_data,\n",
    "    validation_data=val_data,\n",
    "    steps_per_epoch= len(train_data) // batch_size,\n",
    "    epochs=epochs,\n",
    "    verbose=1\n",
    ")"
   ]
  },
  {
   "cell_type": "markdown",
   "metadata": {},
   "source": [
    "# More Conv Layer"
   ]
  },
  {
   "cell_type": "markdown",
   "metadata": {},
   "source": [
    "add padding when feature map w,h is small to take care of corner.\n"
   ]
  },
  {
   "cell_type": "code",
   "execution_count": 13,
   "metadata": {},
   "outputs": [],
   "source": [
    "def deepNet(num_classes): \n",
    "    model =  Sequential()\n",
    "    model.add(Lambda(preprocessing, input_shape=(224,224,3), output_shape=(224,224,3)))\n",
    "    \n",
    "    model.add(Convolution2D(20, kernel_size=(3, 3), strides=(2, 2)))\n",
    "    model.add(Activation('relu'))\n",
    " \n",
    "    model.add(Convolution2D(40, kernel_size=(3, 3),strides=(2, 2)))\n",
    "    model.add(Activation('relu'))\n",
    "    \n",
    "    model.add(Convolution2D(80, kernel_size=(3, 3),strides=(2, 2)))\n",
    "    model.add(Activation('relu'))\n",
    "    \n",
    "    model.add(Convolution2D(160, kernel_size=(3, 3),strides=(2, 2),padding='same'))\n",
    "    model.add(Activation('relu'))\n",
    "    \n",
    "    model.add(GlobalAveragePooling2D())\n",
    "\n",
    "    model.add(Dense(num_classes,activation='softmax'))\n",
    "    return model\n",
    "    \n",
    "model=deepNet(num_classes=2)"
   ]
  },
  {
   "cell_type": "code",
   "execution_count": 14,
   "metadata": {},
   "outputs": [],
   "source": [
    "opt = keras.optimizers.Adam(lr=0.001)\n",
    "model.compile(loss='categorical_crossentropy',\n",
    "              optimizer=opt,\n",
    "              metrics=['accuracy'])"
   ]
  },
  {
   "cell_type": "code",
   "execution_count": 15,
   "metadata": {},
   "outputs": [
    {
     "name": "stdout",
     "output_type": "stream",
     "text": [
      "_________________________________________________________________\n",
      "Layer (type)                 Output Shape              Param #   \n",
      "=================================================================\n",
      "lambda_1 (Lambda)            (None, 224, 224, 3)       0         \n",
      "_________________________________________________________________\n",
      "conv2d_1 (Conv2D)            (None, 111, 111, 20)      560       \n",
      "_________________________________________________________________\n",
      "activation_1 (Activation)    (None, 111, 111, 20)      0         \n",
      "_________________________________________________________________\n",
      "conv2d_2 (Conv2D)            (None, 55, 55, 40)        7240      \n",
      "_________________________________________________________________\n",
      "activation_2 (Activation)    (None, 55, 55, 40)        0         \n",
      "_________________________________________________________________\n",
      "conv2d_3 (Conv2D)            (None, 27, 27, 80)        28880     \n",
      "_________________________________________________________________\n",
      "activation_3 (Activation)    (None, 27, 27, 80)        0         \n",
      "_________________________________________________________________\n",
      "conv2d_4 (Conv2D)            (None, 14, 14, 160)       115360    \n",
      "_________________________________________________________________\n",
      "activation_4 (Activation)    (None, 14, 14, 160)       0         \n",
      "_________________________________________________________________\n",
      "global_average_pooling2d_1 ( (None, 160)               0         \n",
      "_________________________________________________________________\n",
      "dense_1 (Dense)              (None, 2)                 322       \n",
      "=================================================================\n",
      "Total params: 152,362\n",
      "Trainable params: 152,362\n",
      "Non-trainable params: 0\n",
      "_________________________________________________________________\n"
     ]
    }
   ],
   "source": [
    "model.summary()\n"
   ]
  },
  {
   "cell_type": "code",
   "execution_count": 16,
   "metadata": {},
   "outputs": [
    {
     "name": "stdout",
     "output_type": "stream",
     "text": [
      "Epoch 1/5\n",
      "10/10 [==============================] - 3s 260ms/step - loss: 8.0623 - acc: 0.5000 - val_loss: 11.3775 - val_acc: 0.2941\n",
      "Epoch 2/5\n",
      "10/10 [==============================] - 2s 194ms/step - loss: 9.6709 - acc: 0.4000 - val_loss: 11.3775 - val_acc: 0.2941\n",
      "Epoch 3/5\n",
      "10/10 [==============================] - 2s 210ms/step - loss: 1.6118 - acc: 0.9000 - val_loss: 11.3775 - val_acc: 0.2941\n",
      "Epoch 4/5\n",
      "10/10 [==============================] - 2s 206ms/step - loss: 6.4472 - acc: 0.6000 - val_loss: 11.3775 - val_acc: 0.2941\n",
      "Epoch 5/5\n",
      "10/10 [==============================] - 2s 209ms/step - loss: 6.4472 - acc: 0.6000 - val_loss: 11.3775 - val_acc: 0.2941\n"
     ]
    }
   ],
   "source": [
    "batch_size=10\n",
    "epochs=5\n",
    "history = model.fit_generator(\n",
    "    train_data,\n",
    "    validation_data=val_data,\n",
    "    steps_per_epoch= len(train_data) // batch_size,\n",
    "    epochs=epochs,\n",
    "    verbose=1\n",
    ")"
   ]
  },
  {
   "cell_type": "markdown",
   "metadata": {},
   "source": [
    "Seems not stable"
   ]
  },
  {
   "cell_type": "markdown",
   "metadata": {},
   "source": [
    "# Batch Norm Layer"
   ]
  },
  {
   "cell_type": "code",
   "execution_count": 17,
   "metadata": {},
   "outputs": [],
   "source": [
    "def bn():\n",
    "    model.add(BatchNormalization())\n",
    "\n",
    "def deepbn(num_classes): \n",
    "    model =  Sequential()\n",
    "    model.add(Lambda(preprocessing, input_shape=(224,224,3), output_shape=(224,224,3)))\n",
    "    \n",
    "    model.add(Convolution2D(20, kernel_size=(7, 7), strides=(2, 2)))\n",
    "    model.add(Activation('relu'))\n",
    "    bn()\n",
    "    model.add(Convolution2D(40, kernel_size=(5, 5),strides=(2, 2)))\n",
    "    model.add(Activation('relu'))\n",
    "    bn()\n",
    "    model.add(Convolution2D(80, kernel_size=(3, 3),strides=(2, 2)))\n",
    "    model.add(Activation('relu'))\n",
    "    bn()\n",
    "    model.add(Convolution2D(160, kernel_size=(3, 3),strides=(2, 2),padding='same'))\n",
    "    model.add(Activation('relu'))\n",
    "    \n",
    "    model.add(GlobalAveragePooling2D())\n",
    "\n",
    "    model.add(Dense(num_classes,activation='softmax'))\n",
    "    return model\n",
    "    \n",
    "model=deepbn(num_classes=2)"
   ]
  },
  {
   "cell_type": "code",
   "execution_count": 18,
   "metadata": {},
   "outputs": [],
   "source": [
    "opt = keras.optimizers.Adam(lr=0.0001)\n",
    "model.compile(loss='categorical_crossentropy',\n",
    "              optimizer=opt,\n",
    "              metrics=['accuracy'])"
   ]
  },
  {
   "cell_type": "code",
   "execution_count": 19,
   "metadata": {},
   "outputs": [
    {
     "name": "stdout",
     "output_type": "stream",
     "text": [
      "_________________________________________________________________\n",
      "Layer (type)                 Output Shape              Param #   \n",
      "=================================================================\n",
      "lambda_2 (Lambda)            (None, 224, 224, 3)       0         \n",
      "_________________________________________________________________\n",
      "conv2d_5 (Conv2D)            (None, 109, 109, 20)      2960      \n",
      "_________________________________________________________________\n",
      "activation_5 (Activation)    (None, 109, 109, 20)      0         \n",
      "_________________________________________________________________\n",
      "conv2d_6 (Conv2D)            (None, 53, 53, 40)        20040     \n",
      "_________________________________________________________________\n",
      "activation_6 (Activation)    (None, 53, 53, 40)        0         \n",
      "_________________________________________________________________\n",
      "conv2d_7 (Conv2D)            (None, 26, 26, 80)        28880     \n",
      "_________________________________________________________________\n",
      "activation_7 (Activation)    (None, 26, 26, 80)        0         \n",
      "_________________________________________________________________\n",
      "conv2d_8 (Conv2D)            (None, 13, 13, 160)       115360    \n",
      "_________________________________________________________________\n",
      "activation_8 (Activation)    (None, 13, 13, 160)       0         \n",
      "_________________________________________________________________\n",
      "global_average_pooling2d_2 ( (None, 160)               0         \n",
      "_________________________________________________________________\n",
      "dense_2 (Dense)              (None, 2)                 322       \n",
      "=================================================================\n",
      "Total params: 167,562\n",
      "Trainable params: 167,562\n",
      "Non-trainable params: 0\n",
      "_________________________________________________________________\n"
     ]
    }
   ],
   "source": [
    "model.summary()"
   ]
  },
  {
   "cell_type": "code",
   "execution_count": 20,
   "metadata": {},
   "outputs": [
    {
     "name": "stdout",
     "output_type": "stream",
     "text": [
      "Epoch 1/10\n",
      "10/10 [==============================] - 4s 410ms/step - loss: 1.8895 - acc: 0.5000 - val_loss: 3.5661 - val_acc: 0.2941\n",
      "Epoch 2/10\n",
      "10/10 [==============================] - 3s 279ms/step - loss: 0.7760 - acc: 0.5000 - val_loss: 0.3045 - val_acc: 0.9412\n",
      "Epoch 3/10\n",
      "10/10 [==============================] - 3s 275ms/step - loss: 0.8240 - acc: 0.7000 - val_loss: 0.4254 - val_acc: 0.7059\n",
      "Epoch 4/10\n",
      "10/10 [==============================] - 3s 277ms/step - loss: 1.0421 - acc: 0.6000 - val_loss: 0.8939 - val_acc: 0.3824\n",
      "Epoch 5/10\n",
      "10/10 [==============================] - 3s 276ms/step - loss: 0.6749 - acc: 0.8000 - val_loss: 0.7336 - val_acc: 0.5294\n",
      "Epoch 6/10\n",
      "10/10 [==============================] - 3s 268ms/step - loss: 0.4769 - acc: 0.8000 - val_loss: 0.9593 - val_acc: 0.4412\n",
      "Epoch 7/10\n",
      "10/10 [==============================] - 3s 262ms/step - loss: 0.3786 - acc: 0.8000 - val_loss: 0.4792 - val_acc: 0.6765\n",
      "Epoch 8/10\n",
      "10/10 [==============================] - 3s 261ms/step - loss: 0.4593 - acc: 0.8000 - val_loss: 1.0362 - val_acc: 0.4706\n",
      "Epoch 9/10\n",
      "10/10 [==============================] - 3s 264ms/step - loss: 0.5110 - acc: 0.7000 - val_loss: 2.1551 - val_acc: 0.2941\n",
      "Epoch 10/10\n",
      "10/10 [==============================] - 3s 264ms/step - loss: 0.4960 - acc: 0.7000 - val_loss: 0.6348 - val_acc: 0.5588\n"
     ]
    }
   ],
   "source": [
    "batch_size=10\n",
    "epochs=10\n",
    "history = model.fit_generator(\n",
    "    train_data,\n",
    "    validation_data=val_data,\n",
    "    steps_per_epoch= len(train_data) // batch_size,\n",
    "    epochs=epochs,\n",
    "    verbose=1\n",
    ")"
   ]
  },
  {
   "cell_type": "markdown",
   "metadata": {},
   "source": [
    "# DeepBn"
   ]
  },
  {
   "cell_type": "markdown",
   "metadata": {},
   "source": [
    "## doule the depth, use stride one, so the final feature maps will be the same size"
   ]
  },
  {
   "cell_type": "code",
   "execution_count": null,
   "metadata": {},
   "outputs": [],
   "source": []
  }
 ],
 "metadata": {
  "kernelspec": {
   "display_name": "Python 3",
   "language": "python",
   "name": "python3"
  },
  "language_info": {
   "codemirror_mode": {
    "name": "ipython",
    "version": 3
   },
   "file_extension": ".py",
   "mimetype": "text/x-python",
   "name": "python",
   "nbconvert_exporter": "python",
   "pygments_lexer": "ipython3",
   "version": "3.6.6"
  }
 },
 "nbformat": 4,
 "nbformat_minor": 2
}
